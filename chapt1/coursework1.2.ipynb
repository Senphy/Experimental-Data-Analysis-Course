{
 "cells": [
  {
   "cell_type": "markdown",
   "metadata": {},
   "source": [
    "## 作业1.2\n",
    "\n",
    "\n",
    "- 在中子探测器前加入厚度为1cm的薄塑料闪烁体(两端读出)，当有带电粒子穿过有信号，中子和gamma不产生信号。\n",
    "   -  假设能量沉积为原带电粒子能量的1/10,时间分辨、能量分辨参数与中子探测器相同。 \n",
    "   \n",
    "![](vetowall.png)\n",
    "\n",
    " \n",
    "### 要求\n",
    "\n",
    "- 用1.3的代码生成root文件，读入该root文件。\n",
    "\n",
    "\n",
    "- 用tree-makeclass的方法，将上述信息加入到代码，并生成新的root文件。\n",
    "\n",
    "\n",
    "- 通过数据分析，验证薄塑料闪烁体可作为带电粒子的veto探测器。\n",
    "\n",
    "\n",
    "- 保留原ROOT文件的所有参数。将代码上传到github指定目录上，代码以附件方式贴在页面。\n",
    "\n",
    "\n"
   ]
  },
  {
   "cell_type": "code",
   "execution_count": null,
   "metadata": {},
   "outputs": [],
   "source": []
  },
  {
   "cell_type": "code",
   "execution_count": null,
   "metadata": {},
   "outputs": [],
   "source": []
  }
 ],
 "metadata": {
  "kernelspec": {
   "display_name": "ROOT C++",
   "language": "c++",
   "name": "root"
  },
  "language_info": {
   "codemirror_mode": "text/x-c++src",
   "file_extension": ".C",
   "mimetype": " text/x-c++src",
   "name": "c++"
  }
 },
 "nbformat": 4,
 "nbformat_minor": 2
}
