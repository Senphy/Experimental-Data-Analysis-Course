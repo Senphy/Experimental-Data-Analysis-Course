{
 "cells": [
  {
   "cell_type": "markdown",
   "metadata": {},
   "source": [
    "## 作业1.1\n",
    "- 参考文献\n",
    " - [1.A large-area, position-sensitive neutron detector with neutron/y-ray discrimination capabilities](nima-neutron.pdf)\n",
    " - [2.calibraton of neutron detector](neutron_cali.pdf)\n",
    "\n",
    "### 要求\n",
    "- 按照下列要求进行分析，将新参数存入新的ROOT文件。\n",
    "- 代码和root文件上传到自己的github目录上，带音频的ppt文档上传到教学网。\n",
    "\n",
    "1.利用时间和能量信息，计算粒子入射位置tx和qx\n",
    " - 找出tu-td的中心位置和两侧边界，根据几何条件确定 tx=a*(tu-td)+b中的a,b值（参照文献2.的做法）\n",
    " - 利用两端qu,qd的信号，计算粒子入射位置qx。\n",
    "\n",
    " \n",
    "2.计算中子能量ce\n",
    " - 利用TOF中的 $\\gamma$ 峰的位置，对TOF进行绝对刻度（找到飞行时间零点）\n",
    " - 对TOF进行常数修正，飞行距离归一到100cm，生成新的TOF参数ntof\n",
    " - 利用上一步TOF信息，计算中子能量ce。\n",
    "\n",
    "- 在新文件中加入tx，qx，ntof，ce参数，并保留原来的所有参数。\n",
    " -  比较tx，qx哪种更好？。\n",
    " -  ppt中写上原理，中间步骤，结果，结果分析或者存在的问题等。"
   ]
  },
  {
   "cell_type": "code",
   "execution_count": null,
   "metadata": {},
   "outputs": [],
   "source": []
  }
 ],
 "metadata": {
  "kernelspec": {
   "display_name": "ROOT C++",
   "language": "c++",
   "name": "root"
  },
  "language_info": {
   "codemirror_mode": "text/x-c++src",
   "file_extension": ".C",
   "mimetype": " text/x-c++src",
   "name": "c++"
  }
 },
 "nbformat": 4,
 "nbformat_minor": 2
}
