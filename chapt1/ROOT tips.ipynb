{
 "cells": [
  {
   "cell_type": "markdown",
   "metadata": {},
   "source": [
    "## How to obtain more info from TTree::Draw\n",
    "\n",
    "### 1. to TH\n",
    "\n",
    "- 按照ROOT默认的bin和范围画图\n",
    "``` cpp\n",
    "tree->Draw(\"counts\");        \n",
    "tree->Draw(\"counts>>h\");     // 生成以\"h\"为名的histogram \n",
    "tree->Draw(\"counts >>+ h\")   // 如果已存在\"h\"为名的histogram，将数据追加到“h”上\n",
    "``` \n",
    "- 指定histogram\n",
    "``` cpp\n",
    "tree->Draw(\"counts>>h(100, 0, 100)\"    // nbin,xmin,xmax\n",
    "tree->Draw(\"counts>>h(100, 0, )\"       // nbin,xmin,不指定xmax\n",
    "tree->Draw(\"counts>>h(100, ,100 )\"       // nbin,不指定xmin,xmax  \n",
    "```\n",
    "- 先定义histogram\n",
    "``` cpp\n",
    "TH1D *h1 = new TH1D(\"hoge\", \"hoge\", 100, 0, 100);\n",
    "tree->Draw(\"counts>>hoge\");     \n",
    "```\n",
    "- TH2,TH3 以此类推"
   ]
  },
  {
   "cell_type": "markdown",
   "metadata": {},
   "source": [
    "### 2. to TGraph\n",
    "- Once TTree::Draw has been called, it is possible to access useful information still stored in the TTree object via the following functions:\n",
    "``` cpp\n",
    "    -GetSelectedRows()    // return the number of entries accepted by the\n",
    "                          //selection expression. In case where no selection\n",
    "                          //was specified, returns the number of entries processed.\n",
    "    -GetV1()              //returns a pointer to the float array of V1\n",
    "    -GetV2()              //returns a pointer to the float array of V2\n",
    "    -GetV3()              //returns a pointer to the float array of V3\n",
    "    -GetW()               //returns a pointer to the double array of Weights\n",
    "                          //where weight equal the result of the selection expression.\n",
    "```\n",
    "   where V1,V2,V3 correspond to the expressions in\n",
    "``` cpp   \n",
    "   TTree::Draw(\"V1:V2:V3\",selection);\n",
    "```\n",
    "   Example:\n",
    "``` cpp\n",
    "    tree->Draw(\"py:px\",\"pz>4\");\n",
    "    TGraph *gr = new TGraph(tree->GetSelectedRows(),ntuple->GetV2(), ntuple->GetV1());\n",
    "    gr->Draw(\"ap\"); //draw graph in current pad creates a TGraph object with a number of points corresponding to the number of entries selected by the expression \"pz>4\", the x points of the graph being the px values of the Tree and the y points the py values.\n",
    "``` \n",
    "\n",
    "   Important note: By default TTree::Draw creates the arrays obtained with GetV1, GetV2, GetV3, GetW with a length corresponding to the\n",
    "    parameter fEstimate. By default fEstimate=10000 and can be modified via TTree::SetEstimate. \n",
    "    A possible recipee is to do\n",
    "``` cpp\n",
    "    tree->SetEstimate(tree->GetEntries());\n",
    "```\n",
    "You must call SetEstimate if the expected number of selected rows is greater than 10000.\n",
    "\n",
    "You can use the option \"goff\" to turn off the graphics output of TTree::Draw in the above example.\n",
    "\n",
    "### 3. to TVectorD\n",
    "\n",
    "``` cpp\n",
    "tree->Draw(\"x:y\",tcut); // alternative: tr->Project(\"\", \"x:y\", tcut);    \n",
    "TVectorD *x_vec = new TVectorD(tree->GetSelectedRows(), tr->GetV1());    \n",
    "TVectorD *y_vec = new TVectorD(tree->GetSelectedRows(), tr->GetV2());\n",
    "``` \n",
    "\n"
   ]
  },
  {
   "cell_type": "markdown",
   "metadata": {},
   "source": []
  },
  {
   "cell_type": "markdown",
   "metadata": {},
   "source": [
    "## How to Use Chains (Lists of Files)?\n",
    "\n",
    "TChain object is a list of Root files containing the same tree. As an example, assume we have 3 Root files called file1.root, file2.root, file3.root. Each file contains one tree called \"T\". We can create a chain with the following statements:\n",
    "``` cpp\n",
    "   TChain chain(\"T\");\n",
    "   chain.Add(\"file1.root\");\n",
    "   chain.Add(\"file2.root\");\n",
    "   chain.Add(\"file3.root\");\n",
    "``` \n",
    "The class TChain is derived from the class TTree. For example, to generate an histogram corresponding to the attribute \"x\" in tree \"T\" by processing sequentially the 3 files of this chain, we can do:\n",
    "``` cpp\n",
    "   chain.Draw(\"x\");\n",
    "``` \n",
    "\n",
    "Chain files with loop\n",
    "``` cpp\n",
    "TChain *chain=new TChain(\"chain\", \"chainname\");\n",
    "const Int_t fNFile=11;\n",
    "Int_t iFile;\n",
    "for (iFile=0; iFile<fNFile; ++iFile) {\n",
    "    chain->Add(Form(\"../anadata/CALIB_RUN%d.root\", iFile+10));\n",
    "}\n",
    "``` \n"
   ]
  },
  {
   "cell_type": "markdown",
   "metadata": {},
   "source": [
    "## Convert TGraph *g to TH2D *h\n",
    "``` cpp\n",
    "int n=g->GetN();\n",
    "double *x=g->GetX();\n",
    "double *y=g->GetY();\n",
    "for(int i=0;i<n;i++) h->Fill(x,y);\n",
    "h->Draw(\"colz\")\n",
    "``` \n",
    "\n",
    "## Adding points to a graph\n",
    "- Add point (x,y) to a grahp g\n",
    "``` cpp\n",
    "g->SetPoint(g->GetN(), x,y)\n",
    "``` "
   ]
  },
  {
   "cell_type": "markdown",
   "metadata": {},
   "source": [
    "## 在代码中运行脚本\n",
    "``` cpp\n",
    "gROOT->ProcessLine(\".L anotherScript.c\");\n",
    "``` "
   ]
  },
  {
   "cell_type": "code",
   "execution_count": null,
   "metadata": {},
   "outputs": [],
   "source": []
  }
 ],
 "metadata": {
  "kernelspec": {
   "display_name": "ROOT C++",
   "language": "c++",
   "name": "root"
  },
  "language_info": {
   "codemirror_mode": "text/x-c++src",
   "file_extension": ".C",
   "mimetype": " text/x-c++src",
   "name": "c++"
  }
 },
 "nbformat": 4,
 "nbformat_minor": 2
}
