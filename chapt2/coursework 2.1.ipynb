{
 "cells": [
  {
   "cell_type": "markdown",
   "metadata": {},
   "source": [
    "### 作业 2.1\n",
    "\n",
    "a.利用三个F8PPAC的所有位置信息，按照2.2中的策略构建粒子径迹，并按照靶的几何条件(朝向望远镜倾斜45度)，给出两种触发下靶面上的targetx，targety。\n",
    " \n",
    "- 记录参与确定径迹的探测器的数目以及探测器组合，chi2/ndf,每个探测器的残差分布。 \n",
    "- 计算束流打在给定的靶大小范围内的比例ε_target。\n",
    "\n",
    "b.求出PPAC1a,ppac3的x，y，x-y的探测效率，用阳极信号以及两种不同探测器组合，确定入射粒子数目，验证所求效率值相近。\n",
    "\n",
    "c.求出各个探测器的位置分辨率，以及靶上位置分辨率。"
   ]
  },
  {
   "cell_type": "markdown",
   "metadata": {},
   "source": [
    "#### Tips\n",
    "\n",
    "1)求倾斜靶与束流交点\n",
    "\n",
    "- 靶的平面方程为, x+z=0 (1)\n",
    " \n",
    "- 束流的径迹方程为 \n",
    " - x-z: $x=k_x z+b_x$ (2)\n",
    " - y-z: $y=k_y z+b_y$    (3)\n",
    " \n",
    " \n",
    "- 三个方程联立得到靶上的 ($ x_t, y_t,z_t $)坐标。\n",
    " "
   ]
  },
  {
   "cell_type": "code",
   "execution_count": null,
   "metadata": {},
   "outputs": [],
   "source": []
  }
 ],
 "metadata": {
  "kernelspec": {
   "display_name": "ROOT C++",
   "language": "c++",
   "name": "root"
  },
  "language_info": {
   "codemirror_mode": "text/x-c++src",
   "file_extension": ".C",
   "mimetype": " text/x-c++src",
   "name": "c++"
  }
 },
 "nbformat": 4,
 "nbformat_minor": 2
}
